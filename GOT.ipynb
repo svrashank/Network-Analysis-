{
 "cells": [
  {
   "cell_type": "markdown",
   "id": "2b75ed1e-cb75-487b-9f15-d9d2ca5f2a46",
   "metadata": {},
   "source": [
    "## Network Analysis of Book 1 (Song of fire and ice series)"
   ]
  },
  {
   "cell_type": "code",
   "execution_count": 1,
   "id": "0e8e409c",
   "metadata": {},
   "outputs": [],
   "source": [
    "import pandas as pd\n",
    "import numpy as np\n",
    "import spacy\n",
    "from spacy import displacy\n",
    "import networkx as nx\n",
    "import os \n",
    "import matplotlib.pyplot as plt\n",
    "from pyvis.network import Network\n",
    "import community as community_louvain \n"
   ]
  },
  {
   "cell_type": "code",
   "execution_count": 2,
   "id": "dda4ad9a",
   "metadata": {},
   "outputs": [],
   "source": [
    "all_books = [b for b in os.scandir('data') if '.txt' in b.name]\n",
    "book = all_books[0]\n",
    "book_text = open(book,encoding = 'utf-8').read()\n",
    "book_text = book_text.split('PROLOGUE')[2]"
   ]
  },
  {
   "cell_type": "markdown",
   "id": "fe2b95fd-d3bd-4f64-9d3b-18c8c960c51c",
   "metadata": {},
   "source": [
    "#### Sentence and Entities Dataframe "
   ]
  },
  {
   "cell_type": "code",
   "execution_count": 7,
   "id": "f4497baf",
   "metadata": {},
   "outputs": [],
   "source": [
    "nlp = spacy.load('got_ner')\n",
    "nlp.max_length = 176866022\n",
    "doc = nlp(book_text[:50000])\n",
    "sent_ent = []\n",
    "for sent in doc.sents:\n",
    "    ent_list = [ent.text for ent in sent.ents]\n",
    "    sent_ent.append({'Sentence':sent,'Characters':ent_list})\n",
    "sent_ent_df = pd.DataFrame(sent_ent)\n",
    "sent_ent_df = sent_ent_df[sent_ent_df['Characters'].map(len)>0]\n",
    "sent_ent_df['Characters'] = sent_ent_df['Characters'].map(lambda x:[item.split()[0] for item in x])"
   ]
  },
  {
   "cell_type": "code",
   "execution_count": 8,
   "id": "310e3bac",
   "metadata": {},
   "outputs": [],
   "source": [
    "sent_ent = sent_ent_df.reset_index(drop=True)"
   ]
  },
  {
   "cell_type": "code",
   "execution_count": 9,
   "id": "cb7ec51a",
   "metadata": {},
   "outputs": [
    {
     "data": {
      "text/html": [
       "<div>\n",
       "<style scoped>\n",
       "    .dataframe tbody tr th:only-of-type {\n",
       "        vertical-align: middle;\n",
       "    }\n",
       "\n",
       "    .dataframe tbody tr th {\n",
       "        vertical-align: top;\n",
       "    }\n",
       "\n",
       "    .dataframe thead th {\n",
       "        text-align: right;\n",
       "    }\n",
       "</style>\n",
       "<table border=\"1\" class=\"dataframe\">\n",
       "  <thead>\n",
       "    <tr style=\"text-align: right;\">\n",
       "      <th></th>\n",
       "      <th>Sentence</th>\n",
       "      <th>Characters</th>\n",
       "    </tr>\n",
       "  </thead>\n",
       "  <tbody>\n",
       "    <tr>\n",
       "      <th>0</th>\n",
       "      <td>(\\n\\n, “, Maester, Cressen, ,, we, have, visit...</td>\n",
       "      <td>[Maester]</td>\n",
       "    </tr>\n",
       "    <tr>\n",
       "      <th>1</th>\n",
       "      <td>(Last, year, when, he, took, ill, ,, the, Cita...</td>\n",
       "      <td>[Stannis]</td>\n",
       "    </tr>\n",
       "    <tr>\n",
       "      <th>2</th>\n",
       "      <td>(\\n\\n, “, It, ’s, me, and, Patches, ,, Maester...</td>\n",
       "      <td>[Maester]</td>\n",
       "    </tr>\n",
       "    <tr>\n",
       "      <th>3</th>\n",
       "      <td>(Her, name, was, Shireen, .)</td>\n",
       "      <td>[Shireen]</td>\n",
       "    </tr>\n",
       "    <tr>\n",
       "      <th>4</th>\n",
       "      <td>(She, would, be, ten, on, her, next, name, day...</td>\n",
       "      <td>[Maester]</td>\n",
       "    </tr>\n",
       "    <tr>\n",
       "      <th>...</th>\n",
       "      <td>...</td>\n",
       "      <td>...</td>\n",
       "    </tr>\n",
       "    <tr>\n",
       "      <th>157</th>\n",
       "      <td>(Lady, Selyse, was, on, his, left, ,, flashing...</td>\n",
       "      <td>[Selyse]</td>\n",
       "    </tr>\n",
       "    <tr>\n",
       "      <th>158</th>\n",
       "      <td>(\\n\\n, Too, far, ,, Cressen, thought, dully, ,...</td>\n",
       "      <td>[Davos]</td>\n",
       "    </tr>\n",
       "    <tr>\n",
       "      <th>159</th>\n",
       "      <td>(\\n\\n, Patchface, was, capering, about, as, th...</td>\n",
       "      <td>[Davos]</td>\n",
       "    </tr>\n",
       "    <tr>\n",
       "      <th>160</th>\n",
       "      <td>(\\n\\n, Ser, Davos, moved, aside, to, make, roo...</td>\n",
       "      <td>[Davos]</td>\n",
       "    </tr>\n",
       "    <tr>\n",
       "      <th>161</th>\n",
       "      <td>(The, red, woman, has, seen, victory, in, her,...</td>\n",
       "      <td>[Stannis]</td>\n",
       "    </tr>\n",
       "  </tbody>\n",
       "</table>\n",
       "<p>162 rows × 2 columns</p>\n",
       "</div>"
      ],
      "text/plain": [
       "                                              Sentence Characters\n",
       "0    (\\n\\n, “, Maester, Cressen, ,, we, have, visit...  [Maester]\n",
       "1    (Last, year, when, he, took, ill, ,, the, Cita...  [Stannis]\n",
       "2    (\\n\\n, “, It, ’s, me, and, Patches, ,, Maester...  [Maester]\n",
       "3                         (Her, name, was, Shireen, .)  [Shireen]\n",
       "4    (She, would, be, ten, on, her, next, name, day...  [Maester]\n",
       "..                                                 ...        ...\n",
       "157  (Lady, Selyse, was, on, his, left, ,, flashing...   [Selyse]\n",
       "158  (\\n\\n, Too, far, ,, Cressen, thought, dully, ,...    [Davos]\n",
       "159  (\\n\\n, Patchface, was, capering, about, as, th...    [Davos]\n",
       "160  (\\n\\n, Ser, Davos, moved, aside, to, make, roo...    [Davos]\n",
       "161  (The, red, woman, has, seen, victory, in, her,...  [Stannis]\n",
       "\n",
       "[162 rows x 2 columns]"
      ]
     },
     "execution_count": 9,
     "metadata": {},
     "output_type": "execute_result"
    }
   ],
   "source": [
    "sent_ent "
   ]
  },
  {
   "cell_type": "markdown",
   "id": "7cf7ef8f",
   "metadata": {},
   "source": [
    "### Create Edge list dataframe for Graph "
   ]
  },
  {
   "cell_type": "markdown",
   "id": "f529092e-d525-4135-bec7-8c59521aeb49",
   "metadata": {},
   "source": [
    "* If the characters appear within a few sentences of each other or in the same sentence ,then they are connected \n",
    "* Create a rolling window of 5 sentences and make a list of all characters in those sentences. Drop Duplicates "
   ]
  },
  {
   "cell_type": "code",
   "execution_count": 10,
   "id": "f4017815",
   "metadata": {},
   "outputs": [],
   "source": [
    "relationship = []\n",
    "for i in range(sent_ent.index[-1]):\n",
    "    #i will exceed the length of the dataframe for the last five sentences \n",
    "    end_i = min(i+5,sent_ent.index[-1])\n",
    "    \n",
    "    #new list with rollling window of 5 sentences \n",
    "    char = sum((sent_ent.loc[i:end_i].Characters),[])\n",
    "    \n",
    "    #Dropping duplicates within those sentences \n",
    "    char_unique = [char[i] for i in range(len(char)) if (i == 0) or (char[i] != char[i-1])]\n",
    "\n",
    "    #\n",
    "    if len(char_unique) > 1 :\n",
    "        for idx,a in enumerate(char_unique):\n",
    "            if idx == len(char_unique) - 1 :\n",
    "                continue\n",
    "            b = char_unique[idx+1]\n",
    "            rel_char = {'source':a,'target':b}\n",
    "            relationship.append(rel_char)\n",
    "relationship = pd.DataFrame(relationship)"
   ]
  },
  {
   "cell_type": "code",
   "execution_count": 11,
   "id": "326698be",
   "metadata": {},
   "outputs": [
    {
     "data": {
      "text/html": [
       "<div>\n",
       "<style scoped>\n",
       "    .dataframe tbody tr th:only-of-type {\n",
       "        vertical-align: middle;\n",
       "    }\n",
       "\n",
       "    .dataframe tbody tr th {\n",
       "        vertical-align: top;\n",
       "    }\n",
       "\n",
       "    .dataframe thead th {\n",
       "        text-align: right;\n",
       "    }\n",
       "</style>\n",
       "<table border=\"1\" class=\"dataframe\">\n",
       "  <thead>\n",
       "    <tr style=\"text-align: right;\">\n",
       "      <th></th>\n",
       "      <th>source</th>\n",
       "      <th>target</th>\n",
       "      <th>weight</th>\n",
       "    </tr>\n",
       "  </thead>\n",
       "  <tbody>\n",
       "    <tr>\n",
       "      <th>0</th>\n",
       "      <td>Maester</td>\n",
       "      <td>Stannis</td>\n",
       "      <td>94</td>\n",
       "    </tr>\n",
       "    <tr>\n",
       "      <th>1</th>\n",
       "      <td>Maester</td>\n",
       "      <td>Shireen</td>\n",
       "      <td>33</td>\n",
       "    </tr>\n",
       "    <tr>\n",
       "      <th>2</th>\n",
       "      <td>Aerys</td>\n",
       "      <td>Shireen</td>\n",
       "      <td>5</td>\n",
       "    </tr>\n",
       "    <tr>\n",
       "      <th>3</th>\n",
       "      <td>Aerys</td>\n",
       "      <td>Rhaegar</td>\n",
       "      <td>6</td>\n",
       "    </tr>\n",
       "    <tr>\n",
       "      <th>4</th>\n",
       "      <td>Rhaegar</td>\n",
       "      <td>Robert</td>\n",
       "      <td>5</td>\n",
       "    </tr>\n",
       "    <tr>\n",
       "      <th>5</th>\n",
       "      <td>Robert</td>\n",
       "      <td>Stannis</td>\n",
       "      <td>53</td>\n",
       "    </tr>\n",
       "    <tr>\n",
       "      <th>6</th>\n",
       "      <td>Davos</td>\n",
       "      <td>Maester</td>\n",
       "      <td>27</td>\n",
       "    </tr>\n",
       "    <tr>\n",
       "      <th>7</th>\n",
       "      <td>Davos</td>\n",
       "      <td>Stannis</td>\n",
       "      <td>94</td>\n",
       "    </tr>\n",
       "    <tr>\n",
       "      <th>8</th>\n",
       "      <td>Shireen</td>\n",
       "      <td>Stannis</td>\n",
       "      <td>21</td>\n",
       "    </tr>\n",
       "    <tr>\n",
       "      <th>9</th>\n",
       "      <td>Beric</td>\n",
       "      <td>Stannis</td>\n",
       "      <td>5</td>\n",
       "    </tr>\n",
       "    <tr>\n",
       "      <th>10</th>\n",
       "      <td>Beric</td>\n",
       "      <td>Renly</td>\n",
       "      <td>6</td>\n",
       "    </tr>\n",
       "    <tr>\n",
       "      <th>11</th>\n",
       "      <td>Kingsguard</td>\n",
       "      <td>Renly</td>\n",
       "      <td>6</td>\n",
       "    </tr>\n",
       "    <tr>\n",
       "      <th>12</th>\n",
       "      <td>Kingsguard</td>\n",
       "      <td>Loras</td>\n",
       "      <td>5</td>\n",
       "    </tr>\n",
       "    <tr>\n",
       "      <th>13</th>\n",
       "      <td>Loras</td>\n",
       "      <td>Renly</td>\n",
       "      <td>5</td>\n",
       "    </tr>\n",
       "    <tr>\n",
       "      <th>14</th>\n",
       "      <td>Davos</td>\n",
       "      <td>Renly</td>\n",
       "      <td>15</td>\n",
       "    </tr>\n",
       "    <tr>\n",
       "      <th>15</th>\n",
       "      <td>Davos</td>\n",
       "      <td>Eddard</td>\n",
       "      <td>5</td>\n",
       "    </tr>\n",
       "    <tr>\n",
       "      <th>16</th>\n",
       "      <td>Eddard</td>\n",
       "      <td>Stannis</td>\n",
       "      <td>15</td>\n",
       "    </tr>\n",
       "    <tr>\n",
       "      <th>17</th>\n",
       "      <td>Aegon</td>\n",
       "      <td>Stannis</td>\n",
       "      <td>10</td>\n",
       "    </tr>\n",
       "    <tr>\n",
       "      <th>18</th>\n",
       "      <td>Aegon</td>\n",
       "      <td>Maester</td>\n",
       "      <td>5</td>\n",
       "    </tr>\n",
       "    <tr>\n",
       "      <th>19</th>\n",
       "      <td>Maester</td>\n",
       "      <td>Robert</td>\n",
       "      <td>16</td>\n",
       "    </tr>\n",
       "    <tr>\n",
       "      <th>20</th>\n",
       "      <td>Renly</td>\n",
       "      <td>Stannis</td>\n",
       "      <td>57</td>\n",
       "    </tr>\n",
       "    <tr>\n",
       "      <th>21</th>\n",
       "      <td>Renly</td>\n",
       "      <td>Robert</td>\n",
       "      <td>42</td>\n",
       "    </tr>\n",
       "    <tr>\n",
       "      <th>22</th>\n",
       "      <td>Maester</td>\n",
       "      <td>Renly</td>\n",
       "      <td>10</td>\n",
       "    </tr>\n",
       "    <tr>\n",
       "      <th>23</th>\n",
       "      <td>Eddard</td>\n",
       "      <td>Renly</td>\n",
       "      <td>5</td>\n",
       "    </tr>\n",
       "    <tr>\n",
       "      <th>24</th>\n",
       "      <td>Eddard</td>\n",
       "      <td>Robert</td>\n",
       "      <td>5</td>\n",
       "    </tr>\n",
       "    <tr>\n",
       "      <th>25</th>\n",
       "      <td>Mace</td>\n",
       "      <td>Robert</td>\n",
       "      <td>10</td>\n",
       "    </tr>\n",
       "    <tr>\n",
       "      <th>26</th>\n",
       "      <td>Robert</td>\n",
       "      <td>Viserys</td>\n",
       "      <td>5</td>\n",
       "    </tr>\n",
       "    <tr>\n",
       "      <th>27</th>\n",
       "      <td>Jon</td>\n",
       "      <td>Viserys</td>\n",
       "      <td>5</td>\n",
       "    </tr>\n",
       "    <tr>\n",
       "      <th>28</th>\n",
       "      <td>Jon</td>\n",
       "      <td>Robert</td>\n",
       "      <td>12</td>\n",
       "    </tr>\n",
       "    <tr>\n",
       "      <th>29</th>\n",
       "      <td>Jon</td>\n",
       "      <td>Maester</td>\n",
       "      <td>10</td>\n",
       "    </tr>\n",
       "    <tr>\n",
       "      <th>30</th>\n",
       "      <td>Jon</td>\n",
       "      <td>Shireen</td>\n",
       "      <td>5</td>\n",
       "    </tr>\n",
       "    <tr>\n",
       "      <th>31</th>\n",
       "      <td>Lysa</td>\n",
       "      <td>Stannis</td>\n",
       "      <td>10</td>\n",
       "    </tr>\n",
       "    <tr>\n",
       "      <th>32</th>\n",
       "      <td>Lysa</td>\n",
       "      <td>Shireen</td>\n",
       "      <td>5</td>\n",
       "    </tr>\n",
       "    <tr>\n",
       "      <th>33</th>\n",
       "      <td>Selyse</td>\n",
       "      <td>Stannis</td>\n",
       "      <td>10</td>\n",
       "    </tr>\n",
       "    <tr>\n",
       "      <th>34</th>\n",
       "      <td>Renly</td>\n",
       "      <td>Selyse</td>\n",
       "      <td>10</td>\n",
       "    </tr>\n",
       "    <tr>\n",
       "      <th>35</th>\n",
       "      <td>Robert</td>\n",
       "      <td>Selyse</td>\n",
       "      <td>11</td>\n",
       "    </tr>\n",
       "    <tr>\n",
       "      <th>36</th>\n",
       "      <td>Mace</td>\n",
       "      <td>Stannis</td>\n",
       "      <td>5</td>\n",
       "    </tr>\n",
       "    <tr>\n",
       "      <th>37</th>\n",
       "      <td>Mace</td>\n",
       "      <td>Selyse</td>\n",
       "      <td>5</td>\n",
       "    </tr>\n",
       "    <tr>\n",
       "      <th>38</th>\n",
       "      <td>Aegon</td>\n",
       "      <td>Selyse</td>\n",
       "      <td>5</td>\n",
       "    </tr>\n",
       "    <tr>\n",
       "      <th>39</th>\n",
       "      <td>Melisandre</td>\n",
       "      <td>Stannis</td>\n",
       "      <td>27</td>\n",
       "    </tr>\n",
       "    <tr>\n",
       "      <th>40</th>\n",
       "      <td>Melisandre</td>\n",
       "      <td>Selyse</td>\n",
       "      <td>15</td>\n",
       "    </tr>\n",
       "    <tr>\n",
       "      <th>41</th>\n",
       "      <td>Maester</td>\n",
       "      <td>Selyse</td>\n",
       "      <td>10</td>\n",
       "    </tr>\n",
       "    <tr>\n",
       "      <th>42</th>\n",
       "      <td>Lysa</td>\n",
       "      <td>Maester</td>\n",
       "      <td>5</td>\n",
       "    </tr>\n",
       "    <tr>\n",
       "      <th>43</th>\n",
       "      <td>Maester</td>\n",
       "      <td>Melisandre</td>\n",
       "      <td>21</td>\n",
       "    </tr>\n",
       "    <tr>\n",
       "      <th>44</th>\n",
       "      <td>Davos</td>\n",
       "      <td>Selyse</td>\n",
       "      <td>5</td>\n",
       "    </tr>\n",
       "  </tbody>\n",
       "</table>\n",
       "</div>"
      ],
      "text/plain": [
       "        source      target  weight\n",
       "0      Maester     Stannis      94\n",
       "1      Maester     Shireen      33\n",
       "2        Aerys     Shireen       5\n",
       "3        Aerys     Rhaegar       6\n",
       "4      Rhaegar      Robert       5\n",
       "5       Robert     Stannis      53\n",
       "6        Davos     Maester      27\n",
       "7        Davos     Stannis      94\n",
       "8      Shireen     Stannis      21\n",
       "9        Beric     Stannis       5\n",
       "10       Beric       Renly       6\n",
       "11  Kingsguard       Renly       6\n",
       "12  Kingsguard       Loras       5\n",
       "13       Loras       Renly       5\n",
       "14       Davos       Renly      15\n",
       "15       Davos      Eddard       5\n",
       "16      Eddard     Stannis      15\n",
       "17       Aegon     Stannis      10\n",
       "18       Aegon     Maester       5\n",
       "19     Maester      Robert      16\n",
       "20       Renly     Stannis      57\n",
       "21       Renly      Robert      42\n",
       "22     Maester       Renly      10\n",
       "23      Eddard       Renly       5\n",
       "24      Eddard      Robert       5\n",
       "25        Mace      Robert      10\n",
       "26      Robert     Viserys       5\n",
       "27         Jon     Viserys       5\n",
       "28         Jon      Robert      12\n",
       "29         Jon     Maester      10\n",
       "30         Jon     Shireen       5\n",
       "31        Lysa     Stannis      10\n",
       "32        Lysa     Shireen       5\n",
       "33      Selyse     Stannis      10\n",
       "34       Renly      Selyse      10\n",
       "35      Robert      Selyse      11\n",
       "36        Mace     Stannis       5\n",
       "37        Mace      Selyse       5\n",
       "38       Aegon      Selyse       5\n",
       "39  Melisandre     Stannis      27\n",
       "40  Melisandre      Selyse      15\n",
       "41     Maester      Selyse      10\n",
       "42        Lysa     Maester       5\n",
       "43     Maester  Melisandre      21\n",
       "44       Davos      Selyse       5"
      ]
     },
     "execution_count": 11,
     "metadata": {},
     "output_type": "execute_result"
    }
   ],
   "source": [
    "# if a->b and b->a are the same .Sort them \n",
    "relationship_df = pd.DataFrame(np.sort(relationship.values,axis=1),columns = relationship.columns)\n",
    "relationship_df['weight'] = 1 \n",
    "relationship_df = relationship_df.groupby(['source','target'],sort = False, as_index = False).sum()\n",
    "relationship_df"
   ]
  },
  {
   "cell_type": "markdown",
   "id": "b549efb8",
   "metadata": {},
   "source": [
    "### Networks and Graphs analysis "
   ]
  },
  {
   "cell_type": "code",
   "execution_count": 12,
   "id": "7dd4f715",
   "metadata": {},
   "outputs": [],
   "source": [
    "G = nx.from_pandas_edgelist(relationship_df,\n",
    "                            source = 'source',\n",
    "                            target = 'target',\n",
    "                            edge_attr = 'weight',\n",
    "                            create_using = nx.Graph()\n",
    "                            )"
   ]
  },
  {
   "cell_type": "code",
   "execution_count": 10,
   "id": "f9236e5c",
   "metadata": {},
   "outputs": [],
   "source": [
    "# plt.figure(figsize =(30,15))\n",
    "# import scipy\n",
    "# pos = nx.kamada_kawai_layout(G) \n",
    "# nx.draw(G,with_labels = True,node_color='skyblue',edge_cmap = plt.cm.Blues,pos = pos)\n",
    "# plt.show()"
   ]
  },
  {
   "cell_type": "markdown",
   "id": "2aca5b83",
   "metadata": {},
   "source": [
    "### Graph visualisation "
   ]
  },
  {
   "cell_type": "markdown",
   "id": "27a80367",
   "metadata": {},
   "source": [
    "### Centrality"
   ]
  },
  {
   "cell_type": "code",
   "execution_count": 13,
   "id": "aa2f7d72",
   "metadata": {},
   "outputs": [
    {
     "data": {
      "text/plain": [
       "<AxesSubplot: >"
      ]
     },
     "execution_count": 13,
     "metadata": {},
     "output_type": "execute_result"
    },
    {
     "data": {
      "image/png": "[encoded data removed]",
      "text/plain": [
       "<Figure size 640x480 with 1 Axes>"
      ]
     },
     "metadata": {},
     "output_type": "display_data"
    }
   ],
   "source": [
    "def plot_centrality(cent_dict,col_name):\n",
    "    centrality_df = pd.DataFrame.from_dict(cent_dict,orient='index',columns = [col_name])\n",
    "    return centrality_df.sort_values(col_name,ascending=False)[:9].plot(kind='bar')\n",
    "cent_dict = nx.degree_centrality(G)\n",
    "plot_centrality(cent_dict,'centrality') "
   ]
  },
  {
   "cell_type": "code",
   "execution_count": 14,
   "id": "cfdbb78d",
   "metadata": {},
   "outputs": [
    {
     "data": {
      "text/plain": [
       "<AxesSubplot: >"
      ]
     },
     "execution_count": 14,
     "metadata": {},
     "output_type": "execute_result"
    },
    {
     "data": {
      "image/png": "[encoded data removed]",
      "text/plain": [
       "<Figure size 640x480 with 1 Axes>"
      ]
     },
     "metadata": {},
     "output_type": "display_data"
    }
   ],
   "source": [
    "cent_dict = nx.betweenness_centrality(G)\n",
    "plot_centrality(cent_dict,'betweenness_cent')"
   ]
  },
  {
   "cell_type": "code",
   "execution_count": 15,
   "id": "33033ef8",
   "metadata": {},
   "outputs": [
    {
     "data": {
      "text/plain": [
       "<AxesSubplot: >"
      ]
     },
     "execution_count": 15,
     "metadata": {},
     "output_type": "execute_result"
    },
    {
     "data": {
      "image/png": "[encoded data removed]",
      "text/plain": [
       "<Figure size 640x480 with 1 Axes>"
      ]
     },
     "metadata": {},
     "output_type": "display_data"
    }
   ],
   "source": [
    "cent_dict = nx.closeness_centrality(G)\n",
    "plot_centrality(cent_dict,'close_cent')"
   ]
  },
  {
   "cell_type": "code",
   "execution_count": 15,
   "id": "55557133",
   "metadata": {},
   "outputs": [
    {
     "name": "stdout",
     "output_type": "stream",
     "text": [
      "GOT_communties.html\n"
     ]
    },
    {
     "data": {
      "text/html": [
       "\n",
       "        <iframe\n",
       "            width=\"1000px\"\n",
       "            height=\"800px\"\n",
       "            src=\"GOT_communties.html\"\n",
       "            frameborder=\"0\"\n",
       "            allowfullscreen\n",
       "            \n",
       "        ></iframe>\n",
       "        "
      ],
      "text/plain": [
       "<IPython.lib.display.IFrame at 0x19941befa00>"
      ]
     },
     "execution_count": 15,
     "metadata": {},
     "output_type": "execute_result"
    }
   ],
   "source": [
    "community = community_louvain.best_partition(G)\n",
    "nx.set_node_attributes(G,community,'group')\n",
    "net = Network(notebook = True, width=\"1000px\", height=\"800px\", bgcolor='#222222', font_color='white',cdn_resources='remote')\n",
    "#Increase node size wrt their number of connections \n",
    "d = dict(G.degree)\n",
    "scale = 10\n",
    "d.update((x,y*scale) for x,y in d.items())\n",
    "nx.set_node_attributes(G,d,'size')\n",
    "\n",
    "net.show_buttons(filter_= ['physics','edges','nodes'])\n",
    "net.from_nx(G)\n",
    "net.barnes_hut()\n",
    "net.show(\"GOT_communties.html\")"
   ]
  }
 ],
 "metadata": {
  "kernelspec": {
   "display_name": "Python 3 (ipykernel)",
   "language": "python",
   "name": "python3"
  },
  "language_info": {
   "codemirror_mode": {
    "name": "ipython",
    "version": 3
   },
   "file_extension": ".py",
   "mimetype": "text/x-python",
   "name": "python",
   "nbconvert_exporter": "python",
   "pygments_lexer": "ipython3",
   "version": "3.11.4"
  }
 },
 "nbformat": 4,
 "nbformat_minor": 5
}
